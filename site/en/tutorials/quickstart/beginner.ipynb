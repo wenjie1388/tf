{
  "cells": [
    {
      "cell_type": "code",
      "source": [
        "import tensorflow as tf\n",
        "\n",
        "weight = tf.Variable([[1.],[1.]])\n",
        "bias = tf.Variable([[0.17]])\n",
        "input_xs = tf.constant([[1.,1],[2.,2.]])\n",
        "matrix = tf.matmul(input_xs,weight)+bias\n",
        "print(matrix)"
      ],
      "metadata": {
        "id": "pF1fGQXTYfbN",
        "outputId": "588381f4-778e-46b8-95d5-b02c8d6c8d93",
        "colab": {
          "base_uri": "https://localhost:8080/"
        }
      },
      "execution_count": 3,
      "outputs": [
        {
          "output_type": "stream",
          "name": "stdout",
          "text": [
            "tf.Tensor(\n",
            "[[2.17]\n",
            " [4.17]], shape=(2, 1), dtype=float32)\n"
          ]
        }
      ]
    }
  ],
  "metadata": {
    "colab": {
      "name": "beginner.ipynb",
      "toc_visible": true,
      "provenance": []
    },
    "kernelspec": {
      "display_name": "Python 3",
      "name": "python3"
    }
  },
  "nbformat": 4,
  "nbformat_minor": 0
}